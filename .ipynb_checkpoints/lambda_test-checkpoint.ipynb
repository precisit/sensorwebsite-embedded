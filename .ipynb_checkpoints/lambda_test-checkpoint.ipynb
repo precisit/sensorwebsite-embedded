{
 "cells": [
  {
   "cell_type": "code",
   "execution_count": 12,
   "metadata": {},
   "outputs": [
    {
     "data": {
      "text/plain": [
       "'Hello, Hej! 3'"
      ]
     },
     "execution_count": 12,
     "metadata": {},
     "output_type": "execute_result"
    }
   ],
   "source": [
    "import json\n",
    "import psycopg2\n",
    "\n",
    "def lambda_handler(input, context):\n",
    "  output = \"Hello, \" + input + \"! \" + str(context)\n",
    "  return output\n",
    "    \n",
    "\n",
    "\n",
    "lambda_handler(\"Hej\", 3)"
   ]
  },
  {
   "cell_type": "code",
   "execution_count": null,
   "metadata": {},
   "outputs": [],
   "source": [
    "def connect_server():\n",
    "    try:\n",
    "        conn = psycopg2.connect(\"dbname='postgres' user='postgres' host='bankvader-db.ct21dnnypyko.eu-north-1.rds.amazonaws.com' port='5432' password='Precisit123'\")\n",
    "        cur = conn.cursor()\n",
    "        try:\n",
    "            cur.execute(\"\"\"select 1;\"\"\")\n",
    "            print(cur.fetchall())\n",
    "            conn.commit()\n",
    "        except:\n",
    "            print(\"Can't query database\")\n",
    "        cur.close()\n",
    "        conn.close()\n",
    "    except:\n",
    "        print(\"Unable to connect to the database\")\n",
    "        \n",
    "\n",
    "    "
   ]
  },
  {
   "cell_type": "code",
   "execution_count": null,
   "metadata": {},
   "outputs": [],
   "source": []
  }
 ],
 "metadata": {
  "kernelspec": {
   "display_name": "Python 3",
   "language": "python",
   "name": "python3"
  },
  "language_info": {
   "codemirror_mode": {
    "name": "ipython",
    "version": 3
   },
   "file_extension": ".py",
   "mimetype": "text/x-python",
   "name": "python",
   "nbconvert_exporter": "python",
   "pygments_lexer": "ipython3",
   "version": "3.6.9"
  }
 },
 "nbformat": 4,
 "nbformat_minor": 2
}
