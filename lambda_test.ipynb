{
 "cells": [
  {
   "cell_type": "code",
   "execution_count": 4,
   "metadata": {},
   "outputs": [
    {
     "name": "stdout",
     "output_type": "stream",
     "text": [
      "[(1,)]\n"
     ]
    },
    {
     "data": {
      "text/plain": [
       "{'body': '\"Hej\"'}"
      ]
     },
     "execution_count": 4,
     "metadata": {},
     "output_type": "execute_result"
    }
   ],
   "source": [
    "import json\n",
    "import psycopg2\n",
    "\n",
    "\n",
    "# Läser input från arduinon i JSON format\n",
    "def lambda_handler(event, context):\n",
    "    return {\n",
    "        'body': json.dumps(event)\n",
    "    }\n",
    "\n",
    "# Funktionen ovan ger följande output:\n",
    "#{\n",
    "#  \"body\": \"{\\\"temp\\\": 28.48, \\\"hum\\\": 26.17, \\\"pres\\\": 103.01, \\\"ill\\\": 248.39, \\\"uv\\\": 0.02}\"\n",
    "#}\n",
    "\n",
    "\n",
    "lambda_handler(\"Hej\", 3)"
   ]
  },
  {
   "cell_type": "code",
   "execution_count": 3,
   "metadata": {},
   "outputs": [
    {
     "name": "stdout",
     "output_type": "stream",
     "text": [
      "[(1,)]\n"
     ]
    }
   ],
   "source": [
    "\n",
    "\n",
    "def connect_server():\n",
    "    try:\n",
    "        conn = psycopg2.connect(\"dbname='postgres' user='postgres' host='bankvader-db.ct21dnnypyko.eu-north-1.rds.amazonaws.com' port='5432' password='Precisit123'\")\n",
    "        cur = conn.cursor()\n",
    "        try:\n",
    "            cur.execute(\"\"\"select 1;\"\"\")\n",
    "            print(cur.fetchall())\n",
    "            conn.commit()\n",
    "        except:\n",
    "            print(\"Can't query database\")\n",
    "        cur.close()\n",
    "        conn.close()\n",
    "    except:\n",
    "        print(\"Unable to connect to the database\")\n",
    "        \n",
    "    \n",
    "connect_server();"
   ]
  },
  {
   "cell_type": "code",
   "execution_count": null,
   "metadata": {},
   "outputs": [],
   "source": []
  }
 ],
 "metadata": {
  "kernelspec": {
   "display_name": "Python 3",
   "language": "python",
   "name": "python3"
  },
  "language_info": {
   "codemirror_mode": {
    "name": "ipython",
    "version": 3
   },
   "file_extension": ".py",
   "mimetype": "text/x-python",
   "name": "python",
   "nbconvert_exporter": "python",
   "pygments_lexer": "ipython3",
   "version": "3.6.9"
  }
 },
 "nbformat": 4,
 "nbformat_minor": 2
}
